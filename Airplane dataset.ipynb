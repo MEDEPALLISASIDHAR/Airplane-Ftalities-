{
 "cells": [
  {
   "cell_type": "code",
   "execution_count": 1,
   "id": "a288f886",
   "metadata": {},
   "outputs": [],
   "source": [
    "import numpy as np\n",
    "import pandas as pd\n",
    "import matplotlib.pyplot as plt\n",
    "import seaborn as sns\n",
    "import matplotlib.dates as dates\n",
    "sns.set(rc={'figure.figsize':(11, 4)})"
   ]
  },
  {
   "cell_type": "code",
   "execution_count": 2,
   "id": "1f2cd1cd",
   "metadata": {},
   "outputs": [
    {
     "data": {
      "text/plain": [
       "(5268, 14)"
      ]
     },
     "execution_count": 2,
     "metadata": {},
     "output_type": "execute_result"
    }
   ],
   "source": [
    "df = pd.read_csv('file:///C:/Users/user/Downloads/archive%20(8)/Airplane_Crashes_and_Fatalities_Since_1908.csv')\n",
    "df.shape\n"
   ]
  },
  {
   "cell_type": "code",
   "execution_count": 3,
   "id": "bf25701c",
   "metadata": {},
   "outputs": [
    {
     "data": {
      "text/html": [
       "<div>\n",
       "<style scoped>\n",
       "    .dataframe tbody tr th:only-of-type {\n",
       "        vertical-align: middle;\n",
       "    }\n",
       "\n",
       "    .dataframe tbody tr th {\n",
       "        vertical-align: top;\n",
       "    }\n",
       "\n",
       "    .dataframe thead th {\n",
       "        text-align: right;\n",
       "    }\n",
       "</style>\n",
       "<table border=\"1\" class=\"dataframe\">\n",
       "  <thead>\n",
       "    <tr style=\"text-align: right;\">\n",
       "      <th></th>\n",
       "      <th>index</th>\n",
       "      <th>Aboard</th>\n",
       "      <th>Fatalities</th>\n",
       "      <th>Ground</th>\n",
       "    </tr>\n",
       "  </thead>\n",
       "  <tbody>\n",
       "    <tr>\n",
       "      <th>count</th>\n",
       "      <td>5268.00000</td>\n",
       "      <td>5246.000000</td>\n",
       "      <td>5256.000000</td>\n",
       "      <td>5246.000000</td>\n",
       "    </tr>\n",
       "    <tr>\n",
       "      <th>mean</th>\n",
       "      <td>2633.50000</td>\n",
       "      <td>27.554518</td>\n",
       "      <td>20.068303</td>\n",
       "      <td>1.608845</td>\n",
       "    </tr>\n",
       "    <tr>\n",
       "      <th>std</th>\n",
       "      <td>1520.88494</td>\n",
       "      <td>43.076711</td>\n",
       "      <td>33.199952</td>\n",
       "      <td>53.987827</td>\n",
       "    </tr>\n",
       "    <tr>\n",
       "      <th>min</th>\n",
       "      <td>0.00000</td>\n",
       "      <td>0.000000</td>\n",
       "      <td>0.000000</td>\n",
       "      <td>0.000000</td>\n",
       "    </tr>\n",
       "    <tr>\n",
       "      <th>25%</th>\n",
       "      <td>1316.75000</td>\n",
       "      <td>5.000000</td>\n",
       "      <td>3.000000</td>\n",
       "      <td>0.000000</td>\n",
       "    </tr>\n",
       "    <tr>\n",
       "      <th>50%</th>\n",
       "      <td>2633.50000</td>\n",
       "      <td>13.000000</td>\n",
       "      <td>9.000000</td>\n",
       "      <td>0.000000</td>\n",
       "    </tr>\n",
       "    <tr>\n",
       "      <th>75%</th>\n",
       "      <td>3950.25000</td>\n",
       "      <td>30.000000</td>\n",
       "      <td>23.000000</td>\n",
       "      <td>0.000000</td>\n",
       "    </tr>\n",
       "    <tr>\n",
       "      <th>max</th>\n",
       "      <td>5267.00000</td>\n",
       "      <td>644.000000</td>\n",
       "      <td>583.000000</td>\n",
       "      <td>2750.000000</td>\n",
       "    </tr>\n",
       "  </tbody>\n",
       "</table>\n",
       "</div>"
      ],
      "text/plain": [
       "            index       Aboard   Fatalities       Ground\n",
       "count  5268.00000  5246.000000  5256.000000  5246.000000\n",
       "mean   2633.50000    27.554518    20.068303     1.608845\n",
       "std    1520.88494    43.076711    33.199952    53.987827\n",
       "min       0.00000     0.000000     0.000000     0.000000\n",
       "25%    1316.75000     5.000000     3.000000     0.000000\n",
       "50%    2633.50000    13.000000     9.000000     0.000000\n",
       "75%    3950.25000    30.000000    23.000000     0.000000\n",
       "max    5267.00000   644.000000   583.000000  2750.000000"
      ]
     },
     "execution_count": 3,
     "metadata": {},
     "output_type": "execute_result"
    }
   ],
   "source": [
    "df.describe()"
   ]
  },
  {
   "cell_type": "code",
   "execution_count": 4,
   "id": "b520ab78",
   "metadata": {},
   "outputs": [
    {
     "data": {
      "text/plain": [
       "array([[<AxesSubplot:title={'center':'index'}>,\n",
       "        <AxesSubplot:title={'center':'Aboard'}>],\n",
       "       [<AxesSubplot:title={'center':'Fatalities'}>,\n",
       "        <AxesSubplot:title={'center':'Ground'}>]], dtype=object)"
      ]
     },
     "execution_count": 4,
     "metadata": {},
     "output_type": "execute_result"
    },
    {
     "data": {
      "image/png": "[encoded data removed]",
      "text/plain": [
       "<Figure size 792x288 with 4 Axes>"
      ]
     },
     "metadata": {},
     "output_type": "display_data"
    }
   ],
   "source": [
    "df.hist(bins=10)"
   ]
  },
  {
   "cell_type": "code",
   "execution_count": 5,
   "id": "db28c5f9",
   "metadata": {},
   "outputs": [
    {
     "name": "stdout",
     "output_type": "stream",
     "text": [
      "<class 'pandas.core.frame.DataFrame'>\n",
      "RangeIndex: 5268 entries, 0 to 5267\n",
      "Data columns (total 14 columns):\n",
      " #   Column        Non-Null Count  Dtype  \n",
      "---  ------        --------------  -----  \n",
      " 0   index         5268 non-null   int64  \n",
      " 1   Date          5268 non-null   object \n",
      " 2   Time          3049 non-null   object \n",
      " 3   Location      5248 non-null   object \n",
      " 4   Operator      5250 non-null   object \n",
      " 5   Flight #      1069 non-null   object \n",
      " 6   Route         3562 non-null   object \n",
      " 7   Type          5241 non-null   object \n",
      " 8   Registration  4933 non-null   object \n",
      " 9   cn/In         4040 non-null   object \n",
      " 10  Aboard        5246 non-null   float64\n",
      " 11  Fatalities    5256 non-null   float64\n",
      " 12  Ground        5246 non-null   float64\n",
      " 13  Summary       4878 non-null   object \n",
      "dtypes: float64(3), int64(1), object(10)\n",
      "memory usage: 576.3+ KB\n"
     ]
    }
   ],
   "source": [
    "df.info()"
   ]
  },
  {
   "cell_type": "code",
   "execution_count": 6,
   "id": "a9ac314a",
   "metadata": {},
   "outputs": [
    {
     "data": {
      "text/plain": [
       "190     c: 1:00\n",
       "213     c:17:00\n",
       "228     c: 2:00\n",
       "279     c:09:00\n",
       "1462     c16:50\n",
       "2599    c:09:00\n",
       "3390     c14:30\n",
       "4838    c: 9:40\n",
       "Name: Time, dtype: object"
      ]
     },
     "execution_count": 6,
     "metadata": {},
     "output_type": "execute_result"
    }
   ],
   "source": [
    "df.loc[df['Time'].str.startswith('c') == True].Time"
   ]
  },
  {
   "cell_type": "code",
   "execution_count": 7,
   "id": "0ffa251d",
   "metadata": {},
   "outputs": [],
   "source": [
    "df.loc[df['Time'].str.startswith('c:') == True,'Time'] = df.loc[df['Time'].str.startswith('c:') == True,'Time'].str.split(\"c:\").str[1]\n",
    "df.loc[df['Time'].str.startswith('c') == True,'Time'] = df.loc[df['Time'].str.startswith('c') == True,'Time'].str.split(\"c:\").str[1]\n",
    "df.loc[df['Time'] == \"12'20\",'Time'] = \"12:20\"\n",
    "df.loc[df['Time'] == \"18.40\",'Time'] = \"18:40\"\n",
    "df.loc[df['Time'] == \"114:20\",'Time'] = \"14:20\"\n",
    "df.loc[df['Time'] == \"22'08\",'Time'] = \"22:08\""
   ]
  },
  {
   "cell_type": "code",
   "execution_count": 8,
   "id": "2534bafd",
   "metadata": {},
   "outputs": [],
   "source": [
    "df['datetime'] = pd.to_datetime(df['Date']+\" \"+df['Time'])"
   ]
  },
  {
   "cell_type": "code",
   "execution_count": 9,
   "id": "9fe34126",
   "metadata": {},
   "outputs": [],
   "source": [
    "# lets add weekday to plot it\n",
    "df['weekday'] = df['datetime'].dt.day_name()\n",
    "df['year'] = df['datetime'].dt.year"
   ]
  },
  {
   "cell_type": "code",
   "execution_count": 10,
   "id": "9950792d",
   "metadata": {},
   "outputs": [
    {
     "data": {
      "text/plain": [
       "year          2221\n",
       "Aboard          22\n",
       "Ground          22\n",
       "Fatalities      12\n",
       "dtype: int64"
      ]
     },
     "execution_count": 10,
     "metadata": {},
     "output_type": "execute_result"
    }
   ],
   "source": [
    "ImputedValuesdf = df.copy()\n",
    "numericData = ImputedValuesdf.select_dtypes(include=np.number).columns.tolist()\n",
    "missingCounts = df[numericData].isna().sum().sort_values(ascending=False)\n",
    "missingCounts[missingCounts > 0]"
   ]
  },
  {
   "cell_type": "code",
   "execution_count": 11,
   "id": "e4d3fe65",
   "metadata": {},
   "outputs": [
    {
     "data": {
      "text/plain": [
       "index              0\n",
       "Date               0\n",
       "Time            2221\n",
       "Location          20\n",
       "Operator          18\n",
       "Flight #        4199\n",
       "Route           1706\n",
       "Type              27\n",
       "Registration     335\n",
       "cn/In           1228\n",
       "Aboard            22\n",
       "Fatalities        12\n",
       "Ground            22\n",
       "Summary          390\n",
       "datetime        2221\n",
       "weekday         2221\n",
       "year            2221\n",
       "dtype: int64"
      ]
     },
     "execution_count": 11,
     "metadata": {},
     "output_type": "execute_result"
    }
   ],
   "source": [
    "# To check null values\n",
    "df.isnull().sum()"
   ]
  },
  {
   "cell_type": "code",
   "execution_count": 12,
   "id": "036d9d48",
   "metadata": {},
   "outputs": [
    {
     "data": {
      "text/plain": [
       "27"
      ]
     },
     "execution_count": 12,
     "metadata": {},
     "output_type": "execute_result"
    }
   ],
   "source": [
    "# Count the missing values in Type column.\n",
    "df.Type.isnull().sum()"
   ]
  },
  {
   "cell_type": "code",
   "execution_count": 13,
   "id": "f6475fd5",
   "metadata": {},
   "outputs": [
    {
     "data": {
      "text/plain": [
       "(5268, 17)"
      ]
     },
     "execution_count": 13,
     "metadata": {},
     "output_type": "execute_result"
    }
   ],
   "source": [
    "# Shape of DataFrame\n",
    "df.shape"
   ]
  },
  {
   "cell_type": "code",
   "execution_count": 14,
   "id": "ef0e4a1d",
   "metadata": {},
   "outputs": [
    {
     "data": {
      "text/plain": [
       "0.5125284738041003"
      ]
     },
     "execution_count": 14,
     "metadata": {},
     "output_type": "execute_result"
    }
   ],
   "source": [
    "# Calculate the percentage of missing values in Type column.\n",
    "float(100.0*27/5268)"
   ]
  },
  {
   "cell_type": "markdown",
   "id": "84961811",
   "metadata": {},
   "source": [
    "### Drop the records with Dirigible missing"
   ]
  },
  {
   "cell_type": "code",
   "execution_count": 15,
   "id": "a6691ca0",
   "metadata": {},
   "outputs": [
    {
     "data": {
      "text/plain": [
       "(5241, 17)"
      ]
     },
     "execution_count": 15,
     "metadata": {},
     "output_type": "execute_result"
    }
   ],
   "source": [
    "#drop the records with Dirigible missing in df and copy in df1 dataframe.\n",
    "df1= df[-df.Type.isnull()].copy()\n",
    "df1.shape"
   ]
  },
  {
   "cell_type": "code",
   "execution_count": 16,
   "id": "b56227f3",
   "metadata": {},
   "outputs": [
    {
     "data": {
      "text/plain": [
       "2"
      ]
     },
     "execution_count": 16,
     "metadata": {},
     "output_type": "execute_result"
    }
   ],
   "source": [
    "# Dimensions of DataFrame\n",
    "df1.ndim"
   ]
  },
  {
   "cell_type": "code",
   "execution_count": 17,
   "id": "6187c10d",
   "metadata": {},
   "outputs": [
    {
     "name": "stderr",
     "output_type": "stream",
     "text": [
      "C:\\Users\\user\\AppData\\Local\\Temp\\ipykernel_15200\\3208839689.py:2: FutureWarning: DataFrame.mean and DataFrame.median with numeric_only=None will include datetime64 and datetime64tz columns in a future version.\n",
      "  df1.mean()\n",
      "C:\\Users\\user\\AppData\\Local\\Temp\\ipykernel_15200\\3208839689.py:2: FutureWarning: Dropping of nuisance columns in DataFrame reductions (with 'numeric_only=None') is deprecated; in a future version this will raise TypeError.  Select only valid columns before calling the reduction.\n",
      "  df1.mean()\n"
     ]
    },
    {
     "data": {
      "text/plain": [
       "index         2641.407747\n",
       "Aboard          27.620954\n",
       "Fatalities      20.100554\n",
       "Ground           1.602567\n",
       "year          1977.347341\n",
       "dtype: float64"
      ]
     },
     "execution_count": 17,
     "metadata": {},
     "output_type": "execute_result"
    }
   ],
   "source": [
    "# To find Central location of data from df1\n",
    "df1.mean()"
   ]
  },
  {
   "cell_type": "code",
   "execution_count": 18,
   "id": "b06af116",
   "metadata": {},
   "outputs": [
    {
     "name": "stderr",
     "output_type": "stream",
     "text": [
      "C:\\Users\\user\\AppData\\Local\\Temp\\ipykernel_15200\\3370463481.py:2: FutureWarning: DataFrame.mean and DataFrame.median with numeric_only=None will include datetime64 and datetime64tz columns in a future version.\n",
      "  df1.median()\n",
      "C:\\Users\\user\\AppData\\Local\\Temp\\ipykernel_15200\\3370463481.py:2: FutureWarning: Dropping of nuisance columns in DataFrame reductions (with 'numeric_only=None') is deprecated; in a future version this will raise TypeError.  Select only valid columns before calling the reduction.\n",
      "  df1.median()\n"
     ]
    },
    {
     "data": {
      "text/plain": [
       "index         2644.0\n",
       "Aboard          13.0\n",
       "Fatalities       9.0\n",
       "Ground           0.0\n",
       "year          1978.0\n",
       "dtype: float64"
      ]
     },
     "execution_count": 18,
     "metadata": {},
     "output_type": "execute_result"
    }
   ],
   "source": [
    "# To find median value of a data set\n",
    "df1.median()"
   ]
  },
  {
   "cell_type": "code",
   "execution_count": 19,
   "id": "2b02a4de",
   "metadata": {},
   "outputs": [
    {
     "data": {
      "text/html": [
       "<div>\n",
       "<style scoped>\n",
       "    .dataframe tbody tr th:only-of-type {\n",
       "        vertical-align: middle;\n",
       "    }\n",
       "\n",
       "    .dataframe tbody tr th {\n",
       "        vertical-align: top;\n",
       "    }\n",
       "\n",
       "    .dataframe thead th {\n",
       "        text-align: right;\n",
       "    }\n",
       "</style>\n",
       "<table border=\"1\" class=\"dataframe\">\n",
       "  <thead>\n",
       "    <tr style=\"text-align: right;\">\n",
       "      <th></th>\n",
       "      <th>index</th>\n",
       "      <th>Date</th>\n",
       "      <th>Time</th>\n",
       "      <th>Location</th>\n",
       "      <th>Operator</th>\n",
       "      <th>Flight #</th>\n",
       "      <th>Route</th>\n",
       "      <th>Type</th>\n",
       "      <th>Registration</th>\n",
       "      <th>cn/In</th>\n",
       "      <th>Aboard</th>\n",
       "      <th>Fatalities</th>\n",
       "      <th>Ground</th>\n",
       "      <th>Summary</th>\n",
       "      <th>datetime</th>\n",
       "      <th>weekday</th>\n",
       "      <th>year</th>\n",
       "    </tr>\n",
       "  </thead>\n",
       "  <tbody>\n",
       "    <tr>\n",
       "      <th>0</th>\n",
       "      <td>0</td>\n",
       "      <td>02/28/1973</td>\n",
       "      <td>15:00</td>\n",
       "      <td>Sao Paulo, Brazil</td>\n",
       "      <td>Aeroflot</td>\n",
       "      <td>-</td>\n",
       "      <td>Training</td>\n",
       "      <td>Douglas DC-3</td>\n",
       "      <td>49</td>\n",
       "      <td>178</td>\n",
       "      <td>2.0</td>\n",
       "      <td>2.0</td>\n",
       "      <td>0.0</td>\n",
       "      <td>Crashed during takeoff.</td>\n",
       "      <td>1976-08-28 12:40:00</td>\n",
       "      <td>Thursday</td>\n",
       "      <td>1999.0</td>\n",
       "    </tr>\n",
       "    <tr>\n",
       "      <th>1</th>\n",
       "      <td>1</td>\n",
       "      <td>06/18/1972</td>\n",
       "      <td>NaN</td>\n",
       "      <td>NaN</td>\n",
       "      <td>Military - U.S. Air Force</td>\n",
       "      <td>NaN</td>\n",
       "      <td>NaN</td>\n",
       "      <td>NaN</td>\n",
       "      <td>NaN</td>\n",
       "      <td>NaN</td>\n",
       "      <td>NaN</td>\n",
       "      <td>NaN</td>\n",
       "      <td>NaN</td>\n",
       "      <td>NaN</td>\n",
       "      <td>1985-01-23 10:35:00</td>\n",
       "      <td>NaN</td>\n",
       "      <td>NaN</td>\n",
       "    </tr>\n",
       "    <tr>\n",
       "      <th>2</th>\n",
       "      <td>2</td>\n",
       "      <td>08/27/1992</td>\n",
       "      <td>NaN</td>\n",
       "      <td>NaN</td>\n",
       "      <td>NaN</td>\n",
       "      <td>NaN</td>\n",
       "      <td>NaN</td>\n",
       "      <td>NaN</td>\n",
       "      <td>NaN</td>\n",
       "      <td>NaN</td>\n",
       "      <td>NaN</td>\n",
       "      <td>NaN</td>\n",
       "      <td>NaN</td>\n",
       "      <td>NaN</td>\n",
       "      <td>NaT</td>\n",
       "      <td>NaN</td>\n",
       "      <td>NaN</td>\n",
       "    </tr>\n",
       "    <tr>\n",
       "      <th>3</th>\n",
       "      <td>3</td>\n",
       "      <td>08/28/1976</td>\n",
       "      <td>NaN</td>\n",
       "      <td>NaN</td>\n",
       "      <td>NaN</td>\n",
       "      <td>NaN</td>\n",
       "      <td>NaN</td>\n",
       "      <td>NaN</td>\n",
       "      <td>NaN</td>\n",
       "      <td>NaN</td>\n",
       "      <td>NaN</td>\n",
       "      <td>NaN</td>\n",
       "      <td>NaN</td>\n",
       "      <td>NaN</td>\n",
       "      <td>NaT</td>\n",
       "      <td>NaN</td>\n",
       "      <td>NaN</td>\n",
       "    </tr>\n",
       "    <tr>\n",
       "      <th>4</th>\n",
       "      <td>4</td>\n",
       "      <td>08/31/1988</td>\n",
       "      <td>NaN</td>\n",
       "      <td>NaN</td>\n",
       "      <td>NaN</td>\n",
       "      <td>NaN</td>\n",
       "      <td>NaN</td>\n",
       "      <td>NaN</td>\n",
       "      <td>NaN</td>\n",
       "      <td>NaN</td>\n",
       "      <td>NaN</td>\n",
       "      <td>NaN</td>\n",
       "      <td>NaN</td>\n",
       "      <td>NaN</td>\n",
       "      <td>NaT</td>\n",
       "      <td>NaN</td>\n",
       "      <td>NaN</td>\n",
       "    </tr>\n",
       "    <tr>\n",
       "      <th>...</th>\n",
       "      <td>...</td>\n",
       "      <td>...</td>\n",
       "      <td>...</td>\n",
       "      <td>...</td>\n",
       "      <td>...</td>\n",
       "      <td>...</td>\n",
       "      <td>...</td>\n",
       "      <td>...</td>\n",
       "      <td>...</td>\n",
       "      <td>...</td>\n",
       "      <td>...</td>\n",
       "      <td>...</td>\n",
       "      <td>...</td>\n",
       "      <td>...</td>\n",
       "      <td>...</td>\n",
       "      <td>...</td>\n",
       "      <td>...</td>\n",
       "    </tr>\n",
       "    <tr>\n",
       "      <th>5236</th>\n",
       "      <td>5263</td>\n",
       "      <td>NaN</td>\n",
       "      <td>NaN</td>\n",
       "      <td>NaN</td>\n",
       "      <td>NaN</td>\n",
       "      <td>NaN</td>\n",
       "      <td>NaN</td>\n",
       "      <td>NaN</td>\n",
       "      <td>NaN</td>\n",
       "      <td>NaN</td>\n",
       "      <td>NaN</td>\n",
       "      <td>NaN</td>\n",
       "      <td>NaN</td>\n",
       "      <td>NaN</td>\n",
       "      <td>NaT</td>\n",
       "      <td>NaN</td>\n",
       "      <td>NaN</td>\n",
       "    </tr>\n",
       "    <tr>\n",
       "      <th>5237</th>\n",
       "      <td>5264</td>\n",
       "      <td>NaN</td>\n",
       "      <td>NaN</td>\n",
       "      <td>NaN</td>\n",
       "      <td>NaN</td>\n",
       "      <td>NaN</td>\n",
       "      <td>NaN</td>\n",
       "      <td>NaN</td>\n",
       "      <td>NaN</td>\n",
       "      <td>NaN</td>\n",
       "      <td>NaN</td>\n",
       "      <td>NaN</td>\n",
       "      <td>NaN</td>\n",
       "      <td>NaN</td>\n",
       "      <td>NaT</td>\n",
       "      <td>NaN</td>\n",
       "      <td>NaN</td>\n",
       "    </tr>\n",
       "    <tr>\n",
       "      <th>5238</th>\n",
       "      <td>5265</td>\n",
       "      <td>NaN</td>\n",
       "      <td>NaN</td>\n",
       "      <td>NaN</td>\n",
       "      <td>NaN</td>\n",
       "      <td>NaN</td>\n",
       "      <td>NaN</td>\n",
       "      <td>NaN</td>\n",
       "      <td>NaN</td>\n",
       "      <td>NaN</td>\n",
       "      <td>NaN</td>\n",
       "      <td>NaN</td>\n",
       "      <td>NaN</td>\n",
       "      <td>NaN</td>\n",
       "      <td>NaT</td>\n",
       "      <td>NaN</td>\n",
       "      <td>NaN</td>\n",
       "    </tr>\n",
       "    <tr>\n",
       "      <th>5239</th>\n",
       "      <td>5266</td>\n",
       "      <td>NaN</td>\n",
       "      <td>NaN</td>\n",
       "      <td>NaN</td>\n",
       "      <td>NaN</td>\n",
       "      <td>NaN</td>\n",
       "      <td>NaN</td>\n",
       "      <td>NaN</td>\n",
       "      <td>NaN</td>\n",
       "      <td>NaN</td>\n",
       "      <td>NaN</td>\n",
       "      <td>NaN</td>\n",
       "      <td>NaN</td>\n",
       "      <td>NaN</td>\n",
       "      <td>NaT</td>\n",
       "      <td>NaN</td>\n",
       "      <td>NaN</td>\n",
       "    </tr>\n",
       "    <tr>\n",
       "      <th>5240</th>\n",
       "      <td>5267</td>\n",
       "      <td>NaN</td>\n",
       "      <td>NaN</td>\n",
       "      <td>NaN</td>\n",
       "      <td>NaN</td>\n",
       "      <td>NaN</td>\n",
       "      <td>NaN</td>\n",
       "      <td>NaN</td>\n",
       "      <td>NaN</td>\n",
       "      <td>NaN</td>\n",
       "      <td>NaN</td>\n",
       "      <td>NaN</td>\n",
       "      <td>NaN</td>\n",
       "      <td>NaN</td>\n",
       "      <td>NaT</td>\n",
       "      <td>NaN</td>\n",
       "      <td>NaN</td>\n",
       "    </tr>\n",
       "  </tbody>\n",
       "</table>\n",
       "<p>5241 rows × 17 columns</p>\n",
       "</div>"
      ],
      "text/plain": [
       "      index        Date   Time           Location                   Operator  \\\n",
       "0         0  02/28/1973  15:00  Sao Paulo, Brazil                   Aeroflot   \n",
       "1         1  06/18/1972    NaN                NaN  Military - U.S. Air Force   \n",
       "2         2  08/27/1992    NaN                NaN                        NaN   \n",
       "3         3  08/28/1976    NaN                NaN                        NaN   \n",
       "4         4  08/31/1988    NaN                NaN                        NaN   \n",
       "...     ...         ...    ...                ...                        ...   \n",
       "5236   5263         NaN    NaN                NaN                        NaN   \n",
       "5237   5264         NaN    NaN                NaN                        NaN   \n",
       "5238   5265         NaN    NaN                NaN                        NaN   \n",
       "5239   5266         NaN    NaN                NaN                        NaN   \n",
       "5240   5267         NaN    NaN                NaN                        NaN   \n",
       "\n",
       "     Flight #     Route          Type Registration cn/In  Aboard  Fatalities  \\\n",
       "0           -  Training  Douglas DC-3           49   178     2.0         2.0   \n",
       "1         NaN       NaN           NaN          NaN   NaN     NaN         NaN   \n",
       "2         NaN       NaN           NaN          NaN   NaN     NaN         NaN   \n",
       "3         NaN       NaN           NaN          NaN   NaN     NaN         NaN   \n",
       "4         NaN       NaN           NaN          NaN   NaN     NaN         NaN   \n",
       "...       ...       ...           ...          ...   ...     ...         ...   \n",
       "5236      NaN       NaN           NaN          NaN   NaN     NaN         NaN   \n",
       "5237      NaN       NaN           NaN          NaN   NaN     NaN         NaN   \n",
       "5238      NaN       NaN           NaN          NaN   NaN     NaN         NaN   \n",
       "5239      NaN       NaN           NaN          NaN   NaN     NaN         NaN   \n",
       "5240      NaN       NaN           NaN          NaN   NaN     NaN         NaN   \n",
       "\n",
       "      Ground                  Summary            datetime   weekday    year  \n",
       "0        0.0  Crashed during takeoff. 1976-08-28 12:40:00  Thursday  1999.0  \n",
       "1        NaN                      NaN 1985-01-23 10:35:00       NaN     NaN  \n",
       "2        NaN                      NaN                 NaT       NaN     NaN  \n",
       "3        NaN                      NaN                 NaT       NaN     NaN  \n",
       "4        NaN                      NaN                 NaT       NaN     NaN  \n",
       "...      ...                      ...                 ...       ...     ...  \n",
       "5236     NaN                      NaN                 NaT       NaN     NaN  \n",
       "5237     NaN                      NaN                 NaT       NaN     NaN  \n",
       "5238     NaN                      NaN                 NaT       NaN     NaN  \n",
       "5239     NaN                      NaN                 NaT       NaN     NaN  \n",
       "5240     NaN                      NaN                 NaT       NaN     NaN  \n",
       "\n",
       "[5241 rows x 17 columns]"
      ]
     },
     "execution_count": 19,
     "metadata": {},
     "output_type": "execute_result"
    }
   ],
   "source": [
    "# To find values that appears most often\n",
    "df1.mode()"
   ]
  },
  {
   "cell_type": "code",
   "execution_count": 20,
   "id": "065f22e8",
   "metadata": {},
   "outputs": [
    {
     "name": "stderr",
     "output_type": "stream",
     "text": [
      "C:\\Users\\user\\AppData\\Local\\Temp\\ipykernel_15200\\1813207459.py:2: FutureWarning: Dropping of nuisance columns in DataFrame reductions (with 'numeric_only=None') is deprecated; in a future version this will raise TypeError.  Select only valid columns before calling the reduction.\n",
      "  df1.std()\n"
     ]
    },
    {
     "data": {
      "text/plain": [
       "index                          1517.596554\n",
       "Aboard                           43.155006\n",
       "Fatalities                       33.257536\n",
       "Ground                           54.112538\n",
       "datetime      7502 days 12:40:39.783413120\n",
       "year                             20.548877\n",
       "dtype: object"
      ]
     },
     "execution_count": 20,
     "metadata": {},
     "output_type": "execute_result"
    }
   ],
   "source": [
    "# Standard deviation\n",
    "df1.std()"
   ]
  },
  {
   "cell_type": "code",
   "execution_count": 21,
   "id": "39d73c83",
   "metadata": {},
   "outputs": [
    {
     "name": "stderr",
     "output_type": "stream",
     "text": [
      "C:\\Users\\user\\AppData\\Local\\Temp\\ipykernel_15200\\2871271835.py:2: FutureWarning: Dropping of nuisance columns in DataFrame reductions (with 'numeric_only=None') is deprecated; in a future version this will raise TypeError.  Select only valid columns before calling the reduction.\n",
      "  df1.var()\n"
     ]
    },
    {
     "data": {
      "text/plain": [
       "index         2.303099e+06\n",
       "Aboard        1.862355e+03\n",
       "Fatalities    1.106064e+03\n",
       "Ground        2.928167e+03\n",
       "year          4.222563e+02\n",
       "dtype: float64"
      ]
     },
     "execution_count": 21,
     "metadata": {},
     "output_type": "execute_result"
    }
   ],
   "source": [
    "# Variance\n",
    "df1.var()"
   ]
  },
  {
   "cell_type": "code",
   "execution_count": 22,
   "id": "f54f9e9a",
   "metadata": {},
   "outputs": [
    {
     "data": {
      "text/html": [
       "<div>\n",
       "<style scoped>\n",
       "    .dataframe tbody tr th:only-of-type {\n",
       "        vertical-align: middle;\n",
       "    }\n",
       "\n",
       "    .dataframe tbody tr th {\n",
       "        vertical-align: top;\n",
       "    }\n",
       "\n",
       "    .dataframe thead th {\n",
       "        text-align: right;\n",
       "    }\n",
       "</style>\n",
       "<table border=\"1\" class=\"dataframe\">\n",
       "  <thead>\n",
       "    <tr style=\"text-align: right;\">\n",
       "      <th></th>\n",
       "      <th>index</th>\n",
       "      <th>Aboard</th>\n",
       "      <th>Fatalities</th>\n",
       "      <th>Ground</th>\n",
       "      <th>year</th>\n",
       "    </tr>\n",
       "  </thead>\n",
       "  <tbody>\n",
       "    <tr>\n",
       "      <th>index</th>\n",
       "      <td>1.000000</td>\n",
       "      <td>0.145530</td>\n",
       "      <td>0.096812</td>\n",
       "      <td>0.031416</td>\n",
       "      <td>0.994817</td>\n",
       "    </tr>\n",
       "    <tr>\n",
       "      <th>Aboard</th>\n",
       "      <td>0.145530</td>\n",
       "      <td>1.000000</td>\n",
       "      <td>0.756939</td>\n",
       "      <td>0.023367</td>\n",
       "      <td>0.062341</td>\n",
       "    </tr>\n",
       "    <tr>\n",
       "      <th>Fatalities</th>\n",
       "      <td>0.096812</td>\n",
       "      <td>0.756939</td>\n",
       "      <td>1.000000</td>\n",
       "      <td>0.035311</td>\n",
       "      <td>0.021199</td>\n",
       "    </tr>\n",
       "    <tr>\n",
       "      <th>Ground</th>\n",
       "      <td>0.031416</td>\n",
       "      <td>0.023367</td>\n",
       "      <td>0.035311</td>\n",
       "      <td>1.000000</td>\n",
       "      <td>0.031159</td>\n",
       "    </tr>\n",
       "    <tr>\n",
       "      <th>year</th>\n",
       "      <td>0.994817</td>\n",
       "      <td>0.062341</td>\n",
       "      <td>0.021199</td>\n",
       "      <td>0.031159</td>\n",
       "      <td>1.000000</td>\n",
       "    </tr>\n",
       "  </tbody>\n",
       "</table>\n",
       "</div>"
      ],
      "text/plain": [
       "               index    Aboard  Fatalities    Ground      year\n",
       "index       1.000000  0.145530    0.096812  0.031416  0.994817\n",
       "Aboard      0.145530  1.000000    0.756939  0.023367  0.062341\n",
       "Fatalities  0.096812  0.756939    1.000000  0.035311  0.021199\n",
       "Ground      0.031416  0.023367    0.035311  1.000000  0.031159\n",
       "year        0.994817  0.062341    0.021199  0.031159  1.000000"
      ]
     },
     "execution_count": 22,
     "metadata": {},
     "output_type": "execute_result"
    }
   ],
   "source": [
    "# Correlation\n",
    "corr = df1.corr()\n",
    "corr"
   ]
  },
  {
   "cell_type": "markdown",
   "id": "8626a823",
   "metadata": {},
   "source": [
    "### To calculate the correlation between the numeric variables we can use heatmap to find correlation among them"
   ]
  },
  {
   "cell_type": "code",
   "execution_count": 23,
   "id": "4ba0b4d4",
   "metadata": {},
   "outputs": [
    {
     "data": {
      "image/png": "[encoded data removed]",
      "text/plain": [
       "<Figure size 2088x576 with 2 Axes>"
      ]
     },
     "metadata": {},
     "output_type": "display_data"
    }
   ],
   "source": [
    "plt.subplots(figsize=(29,8))\n",
    "corr = df1.corr()\n",
    "sns.heatmap(corr,annot=True,\n",
    "           xticklabels = corr.columns.values,\n",
    "           yticklabels = corr.columns.values);\n",
    "plt.show()"
   ]
  },
  {
   "cell_type": "code",
   "execution_count": 24,
   "id": "e6ebdd5a",
   "metadata": {},
   "outputs": [
    {
     "name": "stderr",
     "output_type": "stream",
     "text": [
      "C:\\Users\\user\\AppData\\Local\\Temp\\ipykernel_15200\\336109200.py:3: FutureWarning: Dropping of nuisance columns in DataFrame reductions (with 'numeric_only=None') is deprecated; in a future version this will raise TypeError.  Select only valid columns before calling the reduction.\n",
      "  df1.skew()\n"
     ]
    },
    {
     "data": {
      "text/plain": [
       "index         -0.004904\n",
       "Aboard         4.241033\n",
       "Fatalities     4.944346\n",
       "Ground        50.243147\n",
       "year          -0.392343\n",
       "dtype: float64"
      ]
     },
     "execution_count": 24,
     "metadata": {},
     "output_type": "execute_result"
    }
   ],
   "source": [
    "# The skew () method calculates the skew for each column\n",
    "# The skew () method searches column-wise and returns the skew of each row\n",
    "df1.skew()"
   ]
  },
  {
   "cell_type": "code",
   "execution_count": 25,
   "id": "6d064d8e",
   "metadata": {},
   "outputs": [
    {
     "data": {
      "text/html": [
       "<div>\n",
       "<style scoped>\n",
       "    .dataframe tbody tr th:only-of-type {\n",
       "        vertical-align: middle;\n",
       "    }\n",
       "\n",
       "    .dataframe tbody tr th {\n",
       "        vertical-align: top;\n",
       "    }\n",
       "\n",
       "    .dataframe thead th {\n",
       "        text-align: right;\n",
       "    }\n",
       "</style>\n",
       "<table border=\"1\" class=\"dataframe\">\n",
       "  <thead>\n",
       "    <tr style=\"text-align: right;\">\n",
       "      <th></th>\n",
       "      <th>index</th>\n",
       "      <th>Aboard</th>\n",
       "      <th>Fatalities</th>\n",
       "      <th>Ground</th>\n",
       "      <th>year</th>\n",
       "    </tr>\n",
       "  </thead>\n",
       "  <tbody>\n",
       "    <tr>\n",
       "      <th>count</th>\n",
       "      <td>5241.000000</td>\n",
       "      <td>5221.000000</td>\n",
       "      <td>5231.000000</td>\n",
       "      <td>5221.000000</td>\n",
       "      <td>3046.000000</td>\n",
       "    </tr>\n",
       "    <tr>\n",
       "      <th>mean</th>\n",
       "      <td>2641.407747</td>\n",
       "      <td>27.620954</td>\n",
       "      <td>20.100554</td>\n",
       "      <td>1.602567</td>\n",
       "      <td>1977.347341</td>\n",
       "    </tr>\n",
       "    <tr>\n",
       "      <th>std</th>\n",
       "      <td>1517.596554</td>\n",
       "      <td>43.155006</td>\n",
       "      <td>33.257536</td>\n",
       "      <td>54.112538</td>\n",
       "      <td>20.548877</td>\n",
       "    </tr>\n",
       "    <tr>\n",
       "      <th>min</th>\n",
       "      <td>0.000000</td>\n",
       "      <td>0.000000</td>\n",
       "      <td>0.000000</td>\n",
       "      <td>0.000000</td>\n",
       "      <td>1908.000000</td>\n",
       "    </tr>\n",
       "    <tr>\n",
       "      <th>25%</th>\n",
       "      <td>1331.000000</td>\n",
       "      <td>5.000000</td>\n",
       "      <td>3.000000</td>\n",
       "      <td>0.000000</td>\n",
       "      <td>1963.000000</td>\n",
       "    </tr>\n",
       "    <tr>\n",
       "      <th>50%</th>\n",
       "      <td>2644.000000</td>\n",
       "      <td>13.000000</td>\n",
       "      <td>9.000000</td>\n",
       "      <td>0.000000</td>\n",
       "      <td>1978.000000</td>\n",
       "    </tr>\n",
       "    <tr>\n",
       "      <th>75%</th>\n",
       "      <td>3954.000000</td>\n",
       "      <td>30.000000</td>\n",
       "      <td>23.000000</td>\n",
       "      <td>0.000000</td>\n",
       "      <td>1995.000000</td>\n",
       "    </tr>\n",
       "    <tr>\n",
       "      <th>max</th>\n",
       "      <td>5267.000000</td>\n",
       "      <td>644.000000</td>\n",
       "      <td>583.000000</td>\n",
       "      <td>2750.000000</td>\n",
       "      <td>2009.000000</td>\n",
       "    </tr>\n",
       "  </tbody>\n",
       "</table>\n",
       "</div>"
      ],
      "text/plain": [
       "             index       Aboard   Fatalities       Ground         year\n",
       "count  5241.000000  5221.000000  5231.000000  5221.000000  3046.000000\n",
       "mean   2641.407747    27.620954    20.100554     1.602567  1977.347341\n",
       "std    1517.596554    43.155006    33.257536    54.112538    20.548877\n",
       "min       0.000000     0.000000     0.000000     0.000000  1908.000000\n",
       "25%    1331.000000     5.000000     3.000000     0.000000  1963.000000\n",
       "50%    2644.000000    13.000000     9.000000     0.000000  1978.000000\n",
       "75%    3954.000000    30.000000    23.000000     0.000000  1995.000000\n",
       "max    5267.000000   644.000000   583.000000  2750.000000  2009.000000"
      ]
     },
     "execution_count": 25,
     "metadata": {},
     "output_type": "execute_result"
    }
   ],
   "source": [
    "# describe() is used to calculate some statistical data like percentile,mean,standard deviation,count.\n",
    "df1.describe()"
   ]
  },
  {
   "cell_type": "code",
   "execution_count": 26,
   "id": "498a4f9b",
   "metadata": {},
   "outputs": [
    {
     "data": {
      "text/plain": [
       "count             5241\n",
       "unique            2446\n",
       "top       Douglas DC-3\n",
       "freq               334\n",
       "Name: Type, dtype: object"
      ]
     },
     "execution_count": 26,
     "metadata": {},
     "output_type": "execute_result"
    }
   ],
   "source": [
    "# Describe the Type column of df1\n",
    "df1.Type.describe()"
   ]
  },
  {
   "cell_type": "markdown",
   "id": "6f0e9006",
   "metadata": {},
   "source": [
    "### -1 indicates the missing values. Missing value does not always be present as null. How to handle it:\n",
    "### Objective is:\n",
    "### you should ignore the missing values in the calculations\n",
    "### simply make it missing - replace -1 with NaN.\n",
    "### all summary statistics- mean, median etc. we will ignore the missing values of pdays"
   ]
  },
  {
   "cell_type": "code",
   "execution_count": 27,
   "id": "f8d595a2",
   "metadata": {},
   "outputs": [
    {
     "data": {
      "text/plain": [
       "count             5241\n",
       "unique            2446\n",
       "top       Douglas DC-3\n",
       "freq               334\n",
       "Name: Type, dtype: object"
      ]
     },
     "execution_count": 27,
     "metadata": {},
     "output_type": "execute_result"
    }
   ],
   "source": [
    "# describe the Dirigible column with considering the -1 values\n",
    "df1.loc[df1.index<0,\"Type\"] = np.NaN\n",
    "df1.Type.describe()"
   ]
  },
  {
   "cell_type": "code",
   "execution_count": 28,
   "id": "93b8a9e3",
   "metadata": {},
   "outputs": [
    {
     "data": {
      "text/plain": [
       "count             5241\n",
       "unique            2446\n",
       "top       Douglas DC-3\n",
       "freq               334\n",
       "Name: Type, dtype: object"
      ]
     },
     "execution_count": 28,
     "metadata": {},
     "output_type": "execute_result"
    }
   ],
   "source": [
    "# describe the Dirigible variable in df1\n",
    "df1.Type.describe()"
   ]
  },
  {
   "cell_type": "code",
   "execution_count": 29,
   "id": "5bd1b56f",
   "metadata": {},
   "outputs": [
    {
     "name": "stdout",
     "output_type": "stream",
     "text": [
      "The Airplane Crash Dataset contains 5,268 rows & 17 columns\n"
     ]
    }
   ],
   "source": [
    "# check the no. of columns & rows\n",
    "print('The Airplane Crash Dataset contains {:,d} rows & {} columns'.format(df.shape[0], df.shape[1]))"
   ]
  },
  {
   "cell_type": "code",
   "execution_count": 30,
   "id": "a1afb9b2",
   "metadata": {},
   "outputs": [
    {
     "data": {
      "text/html": [
       "<style type=\"text/css\">\n",
       "#T_d996e_row0_col0, #T_d996e_row0_col1, #T_d996e_row0_col2, #T_d996e_row0_col3, #T_d996e_row0_col4, #T_d996e_row7_col0 {\n",
       "  background-color: #ffd4ac;\n",
       "  color: #000000;\n",
       "}\n",
       "#T_d996e_row1_col0, #T_d996e_row5_col0 {\n",
       "  background-color: #1f1e1e;\n",
       "  color: #f1f1f1;\n",
       "}\n",
       "#T_d996e_row1_col1, #T_d996e_row2_col2, #T_d996e_row6_col1, #T_d996e_row6_col2 {\n",
       "  background-color: #bae5da;\n",
       "  color: #000000;\n",
       "}\n",
       "#T_d996e_row1_col2, #T_d996e_row1_col3, #T_d996e_row2_col4, #T_d996e_row3_col0, #T_d996e_row3_col1, #T_d996e_row3_col2, #T_d996e_row3_col3, #T_d996e_row4_col1, #T_d996e_row4_col2, #T_d996e_row4_col3, #T_d996e_row5_col1, #T_d996e_row5_col2, #T_d996e_row5_col3, #T_d996e_row6_col3 {\n",
       "  background-color: #bde7db;\n",
       "  color: #000000;\n",
       "}\n",
       "#T_d996e_row1_col4, #T_d996e_row5_col4 {\n",
       "  background-color: #6a2b3a;\n",
       "  color: #f1f1f1;\n",
       "}\n",
       "#T_d996e_row2_col0 {\n",
       "  background-color: #4954b0;\n",
       "  color: #f1f1f1;\n",
       "}\n",
       "#T_d996e_row2_col1, #T_d996e_row2_col3 {\n",
       "  background-color: #b7e3d9;\n",
       "  color: #000000;\n",
       "}\n",
       "#T_d996e_row3_col4 {\n",
       "  background-color: #5a2834;\n",
       "  color: #f1f1f1;\n",
       "}\n",
       "#T_d996e_row4_col0 {\n",
       "  background-color: #3f69c9;\n",
       "  color: #f1f1f1;\n",
       "}\n",
       "#T_d996e_row4_col4 {\n",
       "  background-color: #672a39;\n",
       "  color: #f1f1f1;\n",
       "}\n",
       "#T_d996e_row6_col0 {\n",
       "  background-color: #b63441;\n",
       "  color: #f1f1f1;\n",
       "}\n",
       "#T_d996e_row6_col4 {\n",
       "  background-color: #702b3c;\n",
       "  color: #f1f1f1;\n",
       "}\n",
       "#T_d996e_row7_col1 {\n",
       "  background-color: #63adcd;\n",
       "  color: #f1f1f1;\n",
       "}\n",
       "#T_d996e_row7_col2 {\n",
       "  background-color: #6bb2cd;\n",
       "  color: #f1f1f1;\n",
       "}\n",
       "#T_d996e_row7_col3 {\n",
       "  background-color: #261e1f;\n",
       "  color: #f1f1f1;\n",
       "}\n",
       "#T_d996e_row7_col4 {\n",
       "  background-color: #722c3d;\n",
       "  color: #f1f1f1;\n",
       "}\n",
       "</style>\n",
       "<table id=\"T_d996e\">\n",
       "  <thead>\n",
       "    <tr>\n",
       "      <th class=\"blank level0\" >&nbsp;</th>\n",
       "      <th id=\"T_d996e_level0_col0\" class=\"col_heading level0 col0\" >index</th>\n",
       "      <th id=\"T_d996e_level0_col1\" class=\"col_heading level0 col1\" >Aboard</th>\n",
       "      <th id=\"T_d996e_level0_col2\" class=\"col_heading level0 col2\" >Fatalities</th>\n",
       "      <th id=\"T_d996e_level0_col3\" class=\"col_heading level0 col3\" >Ground</th>\n",
       "      <th id=\"T_d996e_level0_col4\" class=\"col_heading level0 col4\" >year</th>\n",
       "    </tr>\n",
       "  </thead>\n",
       "  <tbody>\n",
       "    <tr>\n",
       "      <th id=\"T_d996e_level0_row0\" class=\"row_heading level0 row0\" >count</th>\n",
       "      <td id=\"T_d996e_row0_col0\" class=\"data row0 col0\" >5268.000000</td>\n",
       "      <td id=\"T_d996e_row0_col1\" class=\"data row0 col1\" >5246.000000</td>\n",
       "      <td id=\"T_d996e_row0_col2\" class=\"data row0 col2\" >5256.000000</td>\n",
       "      <td id=\"T_d996e_row0_col3\" class=\"data row0 col3\" >5246.000000</td>\n",
       "      <td id=\"T_d996e_row0_col4\" class=\"data row0 col4\" >3047.000000</td>\n",
       "    </tr>\n",
       "    <tr>\n",
       "      <th id=\"T_d996e_level0_row1\" class=\"row_heading level0 row1\" >mean</th>\n",
       "      <td id=\"T_d996e_row1_col0\" class=\"data row1 col0\" >2633.500000</td>\n",
       "      <td id=\"T_d996e_row1_col1\" class=\"data row1 col1\" >27.554518</td>\n",
       "      <td id=\"T_d996e_row1_col2\" class=\"data row1 col2\" >20.068303</td>\n",
       "      <td id=\"T_d996e_row1_col3\" class=\"data row1 col3\" >1.608845</td>\n",
       "      <td id=\"T_d996e_row1_col4\" class=\"data row1 col4\" >1977.356744</td>\n",
       "    </tr>\n",
       "    <tr>\n",
       "      <th id=\"T_d996e_level0_row2\" class=\"row_heading level0 row2\" >std</th>\n",
       "      <td id=\"T_d996e_row2_col0\" class=\"data row2 col0\" >1520.884940</td>\n",
       "      <td id=\"T_d996e_row2_col1\" class=\"data row2 col1\" >43.076711</td>\n",
       "      <td id=\"T_d996e_row2_col2\" class=\"data row2 col2\" >33.199952</td>\n",
       "      <td id=\"T_d996e_row2_col3\" class=\"data row2 col3\" >53.987827</td>\n",
       "      <td id=\"T_d996e_row2_col4\" class=\"data row2 col4\" >20.552059</td>\n",
       "    </tr>\n",
       "    <tr>\n",
       "      <th id=\"T_d996e_level0_row3\" class=\"row_heading level0 row3\" >min</th>\n",
       "      <td id=\"T_d996e_row3_col0\" class=\"data row3 col0\" >0.000000</td>\n",
       "      <td id=\"T_d996e_row3_col1\" class=\"data row3 col1\" >0.000000</td>\n",
       "      <td id=\"T_d996e_row3_col2\" class=\"data row3 col2\" >0.000000</td>\n",
       "      <td id=\"T_d996e_row3_col3\" class=\"data row3 col3\" >0.000000</td>\n",
       "      <td id=\"T_d996e_row3_col4\" class=\"data row3 col4\" >1908.000000</td>\n",
       "    </tr>\n",
       "    <tr>\n",
       "      <th id=\"T_d996e_level0_row4\" class=\"row_heading level0 row4\" >25%</th>\n",
       "      <td id=\"T_d996e_row4_col0\" class=\"data row4 col0\" >1316.750000</td>\n",
       "      <td id=\"T_d996e_row4_col1\" class=\"data row4 col1\" >5.000000</td>\n",
       "      <td id=\"T_d996e_row4_col2\" class=\"data row4 col2\" >3.000000</td>\n",
       "      <td id=\"T_d996e_row4_col3\" class=\"data row4 col3\" >0.000000</td>\n",
       "      <td id=\"T_d996e_row4_col4\" class=\"data row4 col4\" >1963.000000</td>\n",
       "    </tr>\n",
       "    <tr>\n",
       "      <th id=\"T_d996e_level0_row5\" class=\"row_heading level0 row5\" >50%</th>\n",
       "      <td id=\"T_d996e_row5_col0\" class=\"data row5 col0\" >2633.500000</td>\n",
       "      <td id=\"T_d996e_row5_col1\" class=\"data row5 col1\" >13.000000</td>\n",
       "      <td id=\"T_d996e_row5_col2\" class=\"data row5 col2\" >9.000000</td>\n",
       "      <td id=\"T_d996e_row5_col3\" class=\"data row5 col3\" >0.000000</td>\n",
       "      <td id=\"T_d996e_row5_col4\" class=\"data row5 col4\" >1978.000000</td>\n",
       "    </tr>\n",
       "    <tr>\n",
       "      <th id=\"T_d996e_level0_row6\" class=\"row_heading level0 row6\" >75%</th>\n",
       "      <td id=\"T_d996e_row6_col0\" class=\"data row6 col0\" >3950.250000</td>\n",
       "      <td id=\"T_d996e_row6_col1\" class=\"data row6 col1\" >30.000000</td>\n",
       "      <td id=\"T_d996e_row6_col2\" class=\"data row6 col2\" >23.000000</td>\n",
       "      <td id=\"T_d996e_row6_col3\" class=\"data row6 col3\" >0.000000</td>\n",
       "      <td id=\"T_d996e_row6_col4\" class=\"data row6 col4\" >1995.000000</td>\n",
       "    </tr>\n",
       "    <tr>\n",
       "      <th id=\"T_d996e_level0_row7\" class=\"row_heading level0 row7\" >max</th>\n",
       "      <td id=\"T_d996e_row7_col0\" class=\"data row7 col0\" >5267.000000</td>\n",
       "      <td id=\"T_d996e_row7_col1\" class=\"data row7 col1\" >644.000000</td>\n",
       "      <td id=\"T_d996e_row7_col2\" class=\"data row7 col2\" >583.000000</td>\n",
       "      <td id=\"T_d996e_row7_col3\" class=\"data row7 col3\" >2750.000000</td>\n",
       "      <td id=\"T_d996e_row7_col4\" class=\"data row7 col4\" >2009.000000</td>\n",
       "    </tr>\n",
       "  </tbody>\n",
       "</table>\n"
      ],
      "text/plain": [
       "<pandas.io.formats.style.Styler at 0x1df25d5dd00>"
      ]
     },
     "execution_count": 30,
     "metadata": {},
     "output_type": "execute_result"
    }
   ],
   "source": [
    "df.describe().style.background_gradient(cmap='icefire')"
   ]
  },
  {
   "cell_type": "code",
   "execution_count": 31,
   "id": "dd78fa88",
   "metadata": {},
   "outputs": [
    {
     "data": {
      "text/plain": [
       "array([[<AxesSubplot:title={'center':'index'}>,\n",
       "        <AxesSubplot:title={'center':'Aboard'}>],\n",
       "       [<AxesSubplot:title={'center':'Fatalities'}>,\n",
       "        <AxesSubplot:title={'center':'Ground'}>],\n",
       "       [<AxesSubplot:title={'center':'datetime'}>,\n",
       "        <AxesSubplot:title={'center':'year'}>]], dtype=object)"
      ]
     },
     "execution_count": 31,
     "metadata": {},
     "output_type": "execute_result"
    },
    {
     "data": {
      "image/png": "[encoded data removed]",
      "text/plain": [
       "<Figure size 792x288 with 6 Axes>"
      ]
     },
     "metadata": {},
     "output_type": "display_data"
    }
   ],
   "source": [
    "df.hist(bins=10)"
   ]
  },
  {
   "cell_type": "code",
   "execution_count": 32,
   "id": "560bcf7a",
   "metadata": {},
   "outputs": [
    {
     "data": {
      "image/png": "[encoded data removed]",
      "text/plain": [
       "<Figure size 792x288 with 1 Axes>"
      ]
     },
     "metadata": {},
     "output_type": "display_data"
    }
   ],
   "source": [
    "df['year'].value_counts()\n",
    "df['year'].hist();"
   ]
  },
  {
   "cell_type": "code",
   "execution_count": 33,
   "id": "b40ac619",
   "metadata": {},
   "outputs": [
    {
     "data": {
      "text/plain": [
       "<AxesSubplot:>"
      ]
     },
     "execution_count": 33,
     "metadata": {},
     "output_type": "execute_result"
    },
    {
     "data": {
      "image/png": "[encoded data removed]",
      "text/plain": [
       "<Figure size 792x288 with 1 Axes>"
      ]
     },
     "metadata": {},
     "output_type": "display_data"
    }
   ],
   "source": [
    "df['weekday'].value_counts()\n",
    "df['weekday'].hist()"
   ]
  },
  {
   "cell_type": "markdown",
   "id": "7a32973d",
   "metadata": {},
   "source": [
    "### it seems there is no division between work day or weekly holidays for this dataset. lets see the change over time"
   ]
  },
  {
   "cell_type": "code",
   "execution_count": 34,
   "id": "58d92098",
   "metadata": {},
   "outputs": [
    {
     "data": {
      "text/plain": [
       "<matplotlib.collections.PathCollection at 0x1df2769ec70>"
      ]
     },
     "execution_count": 34,
     "metadata": {},
     "output_type": "execute_result"
    },
    {
     "data": {
      "image/png": "[encoded data removed]",
      "text/plain": [
       "<Figure size 792x288 with 1 Axes>"
      ]
     },
     "metadata": {},
     "output_type": "display_data"
    }
   ],
   "source": [
    "plt.scatter(x=df.datetime,y=df.Fatalities/df.Fatalities.count())"
   ]
  },
  {
   "cell_type": "markdown",
   "id": "b6e3b1e5",
   "metadata": {},
   "source": [
    "### to find serious fatalities, lets divide total number of fatalities by the number of fatalities for each incident."
   ]
  },
  {
   "cell_type": "code",
   "execution_count": 35,
   "id": "d4d5662c",
   "metadata": {},
   "outputs": [],
   "source": [
    "# number of incidents over years\n",
    "df2 = pd.merge(df,df.groupby(['year']).sum()['Fatalities'].reset_index(),on='year')"
   ]
  },
  {
   "cell_type": "code",
   "execution_count": 36,
   "id": "e2eefdf6",
   "metadata": {},
   "outputs": [],
   "source": [
    "df2['Fatality_rate'] = df2['Fatalities_x']/df2['Fatalities_y']"
   ]
  },
  {
   "cell_type": "code",
   "execution_count": 37,
   "id": "9b0418c3",
   "metadata": {},
   "outputs": [
    {
     "data": {
      "text/plain": [
       "<AxesSubplot:xlabel='year'>"
      ]
     },
     "execution_count": 37,
     "metadata": {},
     "output_type": "execute_result"
    },
    {
     "data": {
      "image/png": "[encoded data removed]",
      "text/plain": [
       "<Figure size 792x288 with 1 Axes>"
      ]
     },
     "metadata": {},
     "output_type": "display_data"
    }
   ],
   "source": [
    " # serious demaged crashes\n",
    "df2[df2['Fatalities_x']>= df2['Fatalities_x'].mean()].groupby('year').sum()['Fatalities_x'].plot()"
   ]
  },
  {
   "cell_type": "code",
   "execution_count": 38,
   "id": "0f6dd245",
   "metadata": {},
   "outputs": [
    {
     "data": {
      "text/html": [
       "<div>\n",
       "<style scoped>\n",
       "    .dataframe tbody tr th:only-of-type {\n",
       "        vertical-align: middle;\n",
       "    }\n",
       "\n",
       "    .dataframe tbody tr th {\n",
       "        vertical-align: top;\n",
       "    }\n",
       "\n",
       "    .dataframe thead th {\n",
       "        text-align: right;\n",
       "    }\n",
       "</style>\n",
       "<table border=\"1\" class=\"dataframe\">\n",
       "  <thead>\n",
       "    <tr style=\"text-align: right;\">\n",
       "      <th></th>\n",
       "      <th>index</th>\n",
       "      <th>Date</th>\n",
       "      <th>Time</th>\n",
       "      <th>Location</th>\n",
       "      <th>Operator</th>\n",
       "      <th>Flight #</th>\n",
       "      <th>Route</th>\n",
       "      <th>Type</th>\n",
       "      <th>Registration</th>\n",
       "      <th>cn/In</th>\n",
       "      <th>Aboard</th>\n",
       "      <th>Fatalities</th>\n",
       "      <th>Ground</th>\n",
       "      <th>Summary</th>\n",
       "      <th>datetime</th>\n",
       "      <th>weekday</th>\n",
       "      <th>year</th>\n",
       "      <th>country</th>\n",
       "    </tr>\n",
       "  </thead>\n",
       "  <tbody>\n",
       "    <tr>\n",
       "      <th>0</th>\n",
       "      <td>0</td>\n",
       "      <td>09/17/1908</td>\n",
       "      <td>17:18</td>\n",
       "      <td>Fort Myer, Virginia</td>\n",
       "      <td>Military - U.S. Army</td>\n",
       "      <td>NaN</td>\n",
       "      <td>Demonstration</td>\n",
       "      <td>Wright Flyer III</td>\n",
       "      <td>NaN</td>\n",
       "      <td>1</td>\n",
       "      <td>2.0</td>\n",
       "      <td>1.0</td>\n",
       "      <td>0.0</td>\n",
       "      <td>During a demonstration flight, a U.S. Army fly...</td>\n",
       "      <td>1908-09-17 17:18:00</td>\n",
       "      <td>Thursday</td>\n",
       "      <td>1908.0</td>\n",
       "      <td>Virginia</td>\n",
       "    </tr>\n",
       "    <tr>\n",
       "      <th>1</th>\n",
       "      <td>1</td>\n",
       "      <td>07/12/1912</td>\n",
       "      <td>06:30</td>\n",
       "      <td>AtlantiCity, New Jersey</td>\n",
       "      <td>Military - U.S. Navy</td>\n",
       "      <td>NaN</td>\n",
       "      <td>Test flight</td>\n",
       "      <td>Dirigible</td>\n",
       "      <td>NaN</td>\n",
       "      <td>NaN</td>\n",
       "      <td>5.0</td>\n",
       "      <td>5.0</td>\n",
       "      <td>0.0</td>\n",
       "      <td>First U.S. dirigible Akron exploded just offsh...</td>\n",
       "      <td>1912-07-12 06:30:00</td>\n",
       "      <td>Friday</td>\n",
       "      <td>1912.0</td>\n",
       "      <td>New Jersey</td>\n",
       "    </tr>\n",
       "    <tr>\n",
       "      <th>2</th>\n",
       "      <td>2</td>\n",
       "      <td>08/06/1913</td>\n",
       "      <td>NaN</td>\n",
       "      <td>Victoria, British Columbia, Canada</td>\n",
       "      <td>Private</td>\n",
       "      <td>-</td>\n",
       "      <td>NaN</td>\n",
       "      <td>Curtiss seaplane</td>\n",
       "      <td>NaN</td>\n",
       "      <td>NaN</td>\n",
       "      <td>1.0</td>\n",
       "      <td>1.0</td>\n",
       "      <td>0.0</td>\n",
       "      <td>The first fatal airplane accident in Canada oc...</td>\n",
       "      <td>NaT</td>\n",
       "      <td>NaN</td>\n",
       "      <td>NaN</td>\n",
       "      <td>Canada</td>\n",
       "    </tr>\n",
       "    <tr>\n",
       "      <th>3</th>\n",
       "      <td>3</td>\n",
       "      <td>09/09/1913</td>\n",
       "      <td>18:30</td>\n",
       "      <td>Over the North Sea</td>\n",
       "      <td>Military - German Navy</td>\n",
       "      <td>NaN</td>\n",
       "      <td>NaN</td>\n",
       "      <td>Zeppelin L-1 (airship)</td>\n",
       "      <td>NaN</td>\n",
       "      <td>NaN</td>\n",
       "      <td>20.0</td>\n",
       "      <td>14.0</td>\n",
       "      <td>0.0</td>\n",
       "      <td>The airship flew into a thunderstorm and encou...</td>\n",
       "      <td>1913-09-09 18:30:00</td>\n",
       "      <td>Tuesday</td>\n",
       "      <td>1913.0</td>\n",
       "      <td>Over the North Sea</td>\n",
       "    </tr>\n",
       "    <tr>\n",
       "      <th>4</th>\n",
       "      <td>4</td>\n",
       "      <td>10/17/1913</td>\n",
       "      <td>10:30</td>\n",
       "      <td>Near Johannisthal, Germany</td>\n",
       "      <td>Military - German Navy</td>\n",
       "      <td>NaN</td>\n",
       "      <td>NaN</td>\n",
       "      <td>Zeppelin L-2 (airship)</td>\n",
       "      <td>NaN</td>\n",
       "      <td>NaN</td>\n",
       "      <td>30.0</td>\n",
       "      <td>30.0</td>\n",
       "      <td>0.0</td>\n",
       "      <td>Hydrogen gas which was being vented was sucked...</td>\n",
       "      <td>1913-10-17 10:30:00</td>\n",
       "      <td>Friday</td>\n",
       "      <td>1913.0</td>\n",
       "      <td>Germany</td>\n",
       "    </tr>\n",
       "    <tr>\n",
       "      <th>...</th>\n",
       "      <td>...</td>\n",
       "      <td>...</td>\n",
       "      <td>...</td>\n",
       "      <td>...</td>\n",
       "      <td>...</td>\n",
       "      <td>...</td>\n",
       "      <td>...</td>\n",
       "      <td>...</td>\n",
       "      <td>...</td>\n",
       "      <td>...</td>\n",
       "      <td>...</td>\n",
       "      <td>...</td>\n",
       "      <td>...</td>\n",
       "      <td>...</td>\n",
       "      <td>...</td>\n",
       "      <td>...</td>\n",
       "      <td>...</td>\n",
       "      <td>...</td>\n",
       "    </tr>\n",
       "    <tr>\n",
       "      <th>5263</th>\n",
       "      <td>5263</td>\n",
       "      <td>05/20/2009</td>\n",
       "      <td>06:30</td>\n",
       "      <td>Near Madiun, Indonesia</td>\n",
       "      <td>Military - Indonesian Air Force</td>\n",
       "      <td>NaN</td>\n",
       "      <td>Jakarta - Maduin</td>\n",
       "      <td>Lockheed C-130 Hercules</td>\n",
       "      <td>A-1325</td>\n",
       "      <td>1982</td>\n",
       "      <td>112.0</td>\n",
       "      <td>98.0</td>\n",
       "      <td>2.0</td>\n",
       "      <td>While on approach, the military transport cras...</td>\n",
       "      <td>2009-05-20 06:30:00</td>\n",
       "      <td>Wednesday</td>\n",
       "      <td>2009.0</td>\n",
       "      <td>Indonesia</td>\n",
       "    </tr>\n",
       "    <tr>\n",
       "      <th>5264</th>\n",
       "      <td>5264</td>\n",
       "      <td>05/26/2009</td>\n",
       "      <td>NaN</td>\n",
       "      <td>Near Isiro, DemocratiRepubliCongo</td>\n",
       "      <td>Service Air</td>\n",
       "      <td>NaN</td>\n",
       "      <td>Goma - Isiro</td>\n",
       "      <td>Antonov An-26</td>\n",
       "      <td>9Q-CSA</td>\n",
       "      <td>5005</td>\n",
       "      <td>4.0</td>\n",
       "      <td>4.0</td>\n",
       "      <td>NaN</td>\n",
       "      <td>The cargo plane crashed while on approach to I...</td>\n",
       "      <td>NaT</td>\n",
       "      <td>NaN</td>\n",
       "      <td>NaN</td>\n",
       "      <td>DemocratiRepubliCongo</td>\n",
       "    </tr>\n",
       "    <tr>\n",
       "      <th>5265</th>\n",
       "      <td>5265</td>\n",
       "      <td>06/01/2009</td>\n",
       "      <td>00:15</td>\n",
       "      <td>AtlantiOcean, 570 miles northeast of Natal, Br...</td>\n",
       "      <td>Air France</td>\n",
       "      <td>447</td>\n",
       "      <td>Rio de Janeiro - Paris</td>\n",
       "      <td>Airbus A330-203</td>\n",
       "      <td>F-GZCP</td>\n",
       "      <td>660</td>\n",
       "      <td>228.0</td>\n",
       "      <td>228.0</td>\n",
       "      <td>0.0</td>\n",
       "      <td>The Airbus went missing over the AtlantiOcean ...</td>\n",
       "      <td>2009-06-01 00:15:00</td>\n",
       "      <td>Monday</td>\n",
       "      <td>2009.0</td>\n",
       "      <td>Brazil</td>\n",
       "    </tr>\n",
       "    <tr>\n",
       "      <th>5266</th>\n",
       "      <td>5266</td>\n",
       "      <td>06/07/2009</td>\n",
       "      <td>08:30</td>\n",
       "      <td>Near Port Hope Simpson, Newfoundland, Canada</td>\n",
       "      <td>Strait Air</td>\n",
       "      <td>NaN</td>\n",
       "      <td>Lourdes de BlanSablon - Port Hope Simpson</td>\n",
       "      <td>Britten-Norman BN-2A-27 Islander</td>\n",
       "      <td>C-FJJR</td>\n",
       "      <td>424</td>\n",
       "      <td>1.0</td>\n",
       "      <td>1.0</td>\n",
       "      <td>0.0</td>\n",
       "      <td>The air ambulance crashed into hills while att...</td>\n",
       "      <td>2009-06-07 08:30:00</td>\n",
       "      <td>Sunday</td>\n",
       "      <td>2009.0</td>\n",
       "      <td>Canada</td>\n",
       "    </tr>\n",
       "    <tr>\n",
       "      <th>5267</th>\n",
       "      <td>5267</td>\n",
       "      <td>06/08/2009</td>\n",
       "      <td>NaN</td>\n",
       "      <td>State of Arunachal Pradesh, India</td>\n",
       "      <td>Military - Indian Air Force</td>\n",
       "      <td>NaN</td>\n",
       "      <td>Mechuka for Jorhat</td>\n",
       "      <td>Antonov An-32</td>\n",
       "      <td>NaN</td>\n",
       "      <td>NaN</td>\n",
       "      <td>13.0</td>\n",
       "      <td>13.0</td>\n",
       "      <td>0.0</td>\n",
       "      <td>The military transport went missing while en r...</td>\n",
       "      <td>NaT</td>\n",
       "      <td>NaN</td>\n",
       "      <td>NaN</td>\n",
       "      <td>India</td>\n",
       "    </tr>\n",
       "  </tbody>\n",
       "</table>\n",
       "<p>5268 rows × 18 columns</p>\n",
       "</div>"
      ],
      "text/plain": [
       "      index        Date   Time  \\\n",
       "0         0  09/17/1908  17:18   \n",
       "1         1  07/12/1912  06:30   \n",
       "2         2  08/06/1913    NaN   \n",
       "3         3  09/09/1913  18:30   \n",
       "4         4  10/17/1913  10:30   \n",
       "...     ...         ...    ...   \n",
       "5263   5263  05/20/2009  06:30   \n",
       "5264   5264  05/26/2009    NaN   \n",
       "5265   5265  06/01/2009  00:15   \n",
       "5266   5266  06/07/2009  08:30   \n",
       "5267   5267  06/08/2009    NaN   \n",
       "\n",
       "                                               Location  \\\n",
       "0                                   Fort Myer, Virginia   \n",
       "1                               AtlantiCity, New Jersey   \n",
       "2                    Victoria, British Columbia, Canada   \n",
       "3                                    Over the North Sea   \n",
       "4                            Near Johannisthal, Germany   \n",
       "...                                                 ...   \n",
       "5263                             Near Madiun, Indonesia   \n",
       "5264                  Near Isiro, DemocratiRepubliCongo   \n",
       "5265  AtlantiOcean, 570 miles northeast of Natal, Br...   \n",
       "5266       Near Port Hope Simpson, Newfoundland, Canada   \n",
       "5267                  State of Arunachal Pradesh, India   \n",
       "\n",
       "                             Operator Flight #  \\\n",
       "0                Military - U.S. Army      NaN   \n",
       "1                Military - U.S. Navy      NaN   \n",
       "2                             Private        -   \n",
       "3              Military - German Navy      NaN   \n",
       "4              Military - German Navy      NaN   \n",
       "...                               ...      ...   \n",
       "5263  Military - Indonesian Air Force      NaN   \n",
       "5264                      Service Air      NaN   \n",
       "5265                       Air France      447   \n",
       "5266                       Strait Air      NaN   \n",
       "5267      Military - Indian Air Force      NaN   \n",
       "\n",
       "                                          Route  \\\n",
       "0                                 Demonstration   \n",
       "1                                   Test flight   \n",
       "2                                           NaN   \n",
       "3                                           NaN   \n",
       "4                                           NaN   \n",
       "...                                         ...   \n",
       "5263                           Jakarta - Maduin   \n",
       "5264                               Goma - Isiro   \n",
       "5265                     Rio de Janeiro - Paris   \n",
       "5266  Lourdes de BlanSablon - Port Hope Simpson   \n",
       "5267                         Mechuka for Jorhat   \n",
       "\n",
       "                                  Type Registration cn/In  Aboard  Fatalities  \\\n",
       "0                     Wright Flyer III          NaN     1     2.0         1.0   \n",
       "1                            Dirigible          NaN   NaN     5.0         5.0   \n",
       "2                     Curtiss seaplane          NaN   NaN     1.0         1.0   \n",
       "3               Zeppelin L-1 (airship)          NaN   NaN    20.0        14.0   \n",
       "4               Zeppelin L-2 (airship)          NaN   NaN    30.0        30.0   \n",
       "...                                ...          ...   ...     ...         ...   \n",
       "5263           Lockheed C-130 Hercules       A-1325  1982   112.0        98.0   \n",
       "5264                     Antonov An-26       9Q-CSA  5005     4.0         4.0   \n",
       "5265                   Airbus A330-203       F-GZCP   660   228.0       228.0   \n",
       "5266  Britten-Norman BN-2A-27 Islander      C-FJJR    424     1.0         1.0   \n",
       "5267                     Antonov An-32          NaN   NaN    13.0        13.0   \n",
       "\n",
       "      Ground                                            Summary  \\\n",
       "0        0.0  During a demonstration flight, a U.S. Army fly...   \n",
       "1        0.0  First U.S. dirigible Akron exploded just offsh...   \n",
       "2        0.0  The first fatal airplane accident in Canada oc...   \n",
       "3        0.0  The airship flew into a thunderstorm and encou...   \n",
       "4        0.0  Hydrogen gas which was being vented was sucked...   \n",
       "...      ...                                                ...   \n",
       "5263     2.0  While on approach, the military transport cras...   \n",
       "5264     NaN  The cargo plane crashed while on approach to I...   \n",
       "5265     0.0  The Airbus went missing over the AtlantiOcean ...   \n",
       "5266     0.0  The air ambulance crashed into hills while att...   \n",
       "5267     0.0  The military transport went missing while en r...   \n",
       "\n",
       "                datetime    weekday    year                 country  \n",
       "0    1908-09-17 17:18:00   Thursday  1908.0                Virginia  \n",
       "1    1912-07-12 06:30:00     Friday  1912.0              New Jersey  \n",
       "2                    NaT        NaN     NaN                  Canada  \n",
       "3    1913-09-09 18:30:00    Tuesday  1913.0      Over the North Sea  \n",
       "4    1913-10-17 10:30:00     Friday  1913.0                 Germany  \n",
       "...                  ...        ...     ...                     ...  \n",
       "5263 2009-05-20 06:30:00  Wednesday  2009.0               Indonesia  \n",
       "5264                 NaT        NaN     NaN   DemocratiRepubliCongo  \n",
       "5265 2009-06-01 00:15:00     Monday  2009.0                  Brazil  \n",
       "5266 2009-06-07 08:30:00     Sunday  2009.0                  Canada  \n",
       "5267                 NaT        NaN     NaN                   India  \n",
       "\n",
       "[5268 rows x 18 columns]"
      ]
     },
     "execution_count": 38,
     "metadata": {},
     "output_type": "execute_result"
    }
   ],
   "source": [
    "df['country'] = df['Location'].str.split(',').str[-1]\n",
    "df"
   ]
  },
  {
   "cell_type": "markdown",
   "id": "6e4bcdd7",
   "metadata": {},
   "source": [
    "### Crashes by Location"
   ]
  },
  {
   "cell_type": "code",
   "execution_count": 39,
   "id": "fd692999",
   "metadata": {},
   "outputs": [
    {
     "data": {
      "text/plain": [
       "<AxesSubplot:ylabel='country'>"
      ]
     },
     "execution_count": 39,
     "metadata": {},
     "output_type": "execute_result"
    },
    {
     "data": {
      "image/png": "[encoded data removed]",
      "text/plain": [
       "<Figure size 792x288 with 1 Axes>"
      ]
     },
     "metadata": {},
     "output_type": "display_data"
    }
   ],
   "source": [
    "df.groupby('country').sum().sort_values(by='Fatalities',ascending=False)['Fatalities'][:20].plot(kind='barh')"
   ]
  },
  {
   "cell_type": "code",
   "execution_count": 40,
   "id": "dafbf140",
   "metadata": {},
   "outputs": [
    {
     "data": {
      "text/plain": [
       "<AxesSubplot:ylabel='Type'>"
      ]
     },
     "execution_count": 40,
     "metadata": {},
     "output_type": "execute_result"
    },
    {
     "data": {
      "image/png": "[encoded data removed]",
      "text/plain": [
       "<Figure size 792x288 with 1 Axes>"
      ]
     },
     "metadata": {},
     "output_type": "display_data"
    }
   ],
   "source": [
    "df.groupby('Type').sum().sort_values(by='Fatalities',ascending=False)['Fatalities'][:20].plot(kind='barh')"
   ]
  },
  {
   "cell_type": "code",
   "execution_count": 41,
   "id": "f06298ef",
   "metadata": {},
   "outputs": [
    {
     "data": {
      "text/plain": [
       "<AxesSubplot:ylabel='Route'>"
      ]
     },
     "execution_count": 41,
     "metadata": {},
     "output_type": "execute_result"
    },
    {
     "data": {
      "image/png": "[encoded data removed]",
      "text/plain": [
       "<Figure size 792x288 with 1 Axes>"
      ]
     },
     "metadata": {},
     "output_type": "display_data"
    }
   ],
   "source": [
    "df.groupby('Route').sum().sort_values(by='Fatalities',ascending=False)['Fatalities'][:20].plot(kind='barh')"
   ]
  },
  {
   "cell_type": "code",
   "execution_count": 42,
   "id": "ee14b701",
   "metadata": {},
   "outputs": [
    {
     "data": {
      "text/plain": [
       "<AxesSubplot:ylabel='Operator'>"
      ]
     },
     "execution_count": 42,
     "metadata": {},
     "output_type": "execute_result"
    },
    {
     "data": {
      "image/png": "[encoded data removed]",
      "text/plain": [
       "<Figure size 792x288 with 1 Axes>"
      ]
     },
     "metadata": {},
     "output_type": "display_data"
    }
   ],
   "source": [
    "df.groupby('Operator').sum().sort_values(by='Fatalities',ascending=False)['Fatalities'][:20].plot(kind='barh')"
   ]
  },
  {
   "cell_type": "code",
   "execution_count": 43,
   "id": "e68f904f",
   "metadata": {},
   "outputs": [
    {
     "name": "stderr",
     "output_type": "stream",
     "text": [
      "C:\\ProgramData\\Anaconda3\\lib\\site-packages\\seaborn\\_decorators.py:36: FutureWarning: Pass the following variable as a keyword arg: x. From version 0.12, the only valid positional argument will be `data`, and passing other arguments without an explicit keyword will result in an error or misinterpretation.\n",
      "  warnings.warn(\n"
     ]
    },
    {
     "data": {
      "image/png": "[encoded data removed]",
      "text/plain": [
       "<Figure size 792x288 with 1 Axes>"
      ]
     },
     "metadata": {},
     "output_type": "display_data"
    }
   ],
   "source": [
    "# Plot the boxplot of age variable\n",
    "# To find summary of the set of data values\n",
    "sns.boxplot(df2.year)\n",
    "plt.show()"
   ]
  },
  {
   "cell_type": "code",
   "execution_count": 44,
   "id": "3d690117",
   "metadata": {},
   "outputs": [
    {
     "data": {
      "text/plain": [
       "<AxesSubplot:xlabel='year'>"
      ]
     },
     "execution_count": 44,
     "metadata": {},
     "output_type": "execute_result"
    },
    {
     "data": {
      "image/png": "[encoded data removed]",
      "text/plain": [
       "<Figure size 792x288 with 1 Axes>"
      ]
     },
     "metadata": {},
     "output_type": "display_data"
    }
   ],
   "source": [
    "# VIOLINE PLOT - box and kernel\n",
    "sns.violinplot(x=df[\"year\"])"
   ]
  },
  {
   "cell_type": "code",
   "execution_count": 45,
   "id": "dd2ad9b4",
   "metadata": {},
   "outputs": [
    {
     "data": {
      "text/plain": [
       "<AxesSubplot:xlabel='Aboard'>"
      ]
     },
     "execution_count": 45,
     "metadata": {},
     "output_type": "execute_result"
    },
    {
     "data": {
      "image/png": "[encoded data removed]",
      "text/plain": [
       "<Figure size 792x288 with 1 Axes>"
      ]
     },
     "metadata": {},
     "output_type": "display_data"
    }
   ],
   "source": [
    "#STRIP PLOT\n",
    "sns.stripplot(x=df[\"Aboard\"])"
   ]
  },
  {
   "cell_type": "code",
   "execution_count": 46,
   "id": "654b2770",
   "metadata": {},
   "outputs": [
    {
     "data": {
      "text/plain": [
       "<AxesSubplot:xlabel='year', ylabel='Aboard'>"
      ]
     },
     "execution_count": 46,
     "metadata": {},
     "output_type": "execute_result"
    },
    {
     "data": {
      "image/png": "[encoded data removed]",
      "text/plain": [
       "<Figure size 792x288 with 1 Axes>"
      ]
     },
     "metadata": {},
     "output_type": "display_data"
    }
   ],
   "source": [
    "sns.violinplot(x=df[\"year\"], y=df[\"Aboard\"])"
   ]
  },
  {
   "cell_type": "code",
   "execution_count": null,
   "id": "ba73958e",
   "metadata": {},
   "outputs": [],
   "source": []
  },
  {
   "cell_type": "code",
   "execution_count": null,
   "id": "e25be533",
   "metadata": {},
   "outputs": [],
   "source": []
  }
 ],
 "metadata": {
  "kernelspec": {
   "display_name": "Python 3 (ipykernel)",
   "language": "python",
   "name": "python3"
  },
  "language_info": {
   "codemirror_mode": {
    "name": "ipython",
    "version": 3
   },
   "file_extension": ".py",
   "mimetype": "text/x-python",
   "name": "python",
   "nbconvert_exporter": "python",
   "pygments_lexer": "ipython3",
   "version": "3.9.12"
  }
 },
 "nbformat": 4,
 "nbformat_minor": 5
}
